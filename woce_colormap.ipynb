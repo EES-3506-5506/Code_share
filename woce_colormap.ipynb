{
 "cells": [
  {
   "cell_type": "markdown",
   "id": "e5e3dc9f-2ca4-4770-a2bb-239f24c523cc",
   "metadata": {},
   "source": [
    "# WOCE Colormaps\n",
    "## Description\n",
    "The [World Ocean Circulation Experiment (WOCE](https://woceatlas.ucsd.edu) uses specific colormaps for potential temperature, salinity, neutral density, potential density, oxygen, phosphate, nitrate, silicate, alkalinity, total CO<sub>2</sub>, CFC-11, tritium, δ<sup>3</sup>He, Δ<sup>14</sup>C, and depth. Because these colormaps are not generic, and WOCE plots can be used for comparison purposes, I recreated the colormaps. \n",
    "## Author\n",
    "This notebook was created by Megan Siwak. Any questions should be directed to [megan.siwak@temple.edu](megan.siwak@temple.edu)."
   ]
  },
  {
   "cell_type": "markdown",
   "id": "3543ed4b-5bde-4a82-9b84-e1bdcae242a7",
   "metadata": {},
   "source": [
    "![WOCE_colormaps](woce_color_scheme.jpeg)"
   ]
  },
  {
   "cell_type": "code",
   "execution_count": 1,
   "id": "3763d3c3-aa2e-49a2-bb87-10bef00ab172",
   "metadata": {},
   "outputs": [],
   "source": [
    "import matplotlib as mpl\n",
    "import matplotlib.pyplot as plt\n",
    "import numpy as np"
   ]
  },
  {
   "cell_type": "markdown",
   "id": "75b842c4-a776-4fc0-9e78-4a24541dee80",
   "metadata": {},
   "source": [
    "## Potential Temperature"
   ]
  },
  {
   "cell_type": "code",
   "execution_count": 2,
   "id": "965dbf32-6f0d-4535-a302-8edacde6aeac",
   "metadata": {},
   "outputs": [],
   "source": [
    "cdict_potentialtemperature = {\n",
    "    'red':((0.0,0.00390625,0.00390625),\n",
    "           (0.14285714285714285,0.0,0.0),\n",
    "           (0.2857142857142857,0.37109375,0.37109375),\n",
    "           (0.42857142857142855,0.6640625,0.6640625),\n",
    "           (0.5714285714285714,0.93359375,0.93359375),\n",
    "           (0.7142857142857143,0.8828125,0.8828125),\n",
    "           (0.8571428571428571,0.83984375,0.83984375),\n",
    "           (1.0,0.796875,0.796875)),\n",
    "    'green':((0.0,0.54296875,0.54296875),\n",
    "             (0.14285714285714285,0.6171875,0.6171875),\n",
    "             (0.2857142857142857,0.71875,0.71875),\n",
    "             (0.42857142857142855,0.84375,0.84375),\n",
    "             (0.5714285714285714,0.71484375,0.71484375),\n",
    "             (0.7142857142857143,0.48046875,0.48046875),\n",
    "             (0.8571428571428571,0.28515625,0.28515625),\n",
    "             (1.0,0.0,0.0)),\n",
    "    'blue':((0.0,0.75390625,0.75390625),\n",
    "            (0.14285714285714285,0.79296875,0.79296875),\n",
    "            (0.2857142857142857,0.84375,0.84375),\n",
    "            (0.42857142857142855,0.89453125,0.89453125),\n",
    "            (0.5714285714285714,0.6640625,0.6640625),\n",
    "            (0.7142857142857143,0.453125,0.453125),\n",
    "            (0.8571428571428571,0.30859375,0.30859375),\n",
    "            (1.0,0.20703125,0.20703125)),\n",
    "}"
   ]
  },
  {
   "cell_type": "code",
   "execution_count": 3,
   "id": "866e97a3-163c-4a73-86db-28c0ff696219",
   "metadata": {},
   "outputs": [
    {
     "data": {
      "image/png": "[encoded data removed]",
      "text/html": [
       "<div style=\"vertical-align: middle;\"><strong>potentialtemperature_cmap</strong> </div><div class=\"cmap\"><img alt=\"potentialtemperature_cmap colormap\" title=\"potentialtemperature_cmap\" style=\"border: 1px solid #555;\" src=\"data:image/png;base64,iVBORw0KGgoAAAANSUhEUgAAAgAAAABACAYAAABsv8+/AAAAKHRFWHRUaXRsZQBwb3RlbnRpYWx0ZW1wZXJhdHVyZV9jbWFwIGNvbG9ybWFwqKvOygAAAC50RVh0RGVzY3JpcHRpb24AcG90ZW50aWFsdGVtcGVyYXR1cmVfY21hcCBjb2xvcm1hcPfmpaoAAAAwdEVYdEF1dGhvcgBNYXRwbG90bGliIHYzLjguNCwgaHR0cHM6Ly9tYXRwbG90bGliLm9yZ2TOsrQAAAAydEVYdFNvZnR3YXJlAE1hdHBsb3RsaWIgdjMuOC40LCBodHRwczovL21hdHBsb3RsaWIub3JnSmgtkwAAAftJREFUeJzt1kty6jAURVEJZp9RZWRWGlgmCAQ20Dtrdfx0kfxJ1avatfz8tvJf7ddaHs7Lp7/Xyf5Pf58870v37ePz+o/TOj+Xvu6/19t95Xa+7ZvN+3p43mx+Gp53fZ/n73GdD+vxOybfN3uP675hPtxn3H+/Pnr+xbxM/s5vnj/8Hv18WS7X1tbrZD3sq7N9O+fb+bL3/ON99e49P3yfYV+fl3Velsu6Le3FfD23rtuw3vbvPb9M3mNY73/em++x976tPZ1vv++dL8P9Dj5vOp88/9XzDn/vMjxvu5aD83fPfft+/XvKwftNzvX/dwUAiCMAACCQAACAQAIAAAIJAAAIJAAAIJAAAIBAAgAAAgkAAAgkAAAgkAAAgEACAAACCQAACCQAACCQAACAQAIAAAIJAAAIJAAAIJAAAIBAAgAAAgkAAAgkAAAgkAAAgEACAAACCQAACCQAACCQAACAQAIAAAIJAAAIJAAAIJAAAIBAAgAAAgkAAAgkAAAgkAAAgEACAAACCQAACCQAACCQAACAQAIAAAIJAAAIJAAAIJAAAIBAAgAAAgkAAAgkAAAgkAAAgEACAAACCQAACCQAACCQAACAQAIAAAIJAAAIJAAAIJAAAIBAAgAAAgkAAAgkAAAgkAAAgEACAAACCQAACCQAACCQAACAQH+0DTqNeVA4vAAAAABJRU5ErkJggg==\"></div><div style=\"vertical-align: middle; max-width: 514px; display: flex; justify-content: space-between;\"><div style=\"float: left;\"><div title=\"#018ac0ff\" style=\"display: inline-block; width: 1em; height: 1em; margin: 0; vertical-align: middle; border: 1px solid #555; background-color: #018ac0ff;\"></div> under</div><div style=\"margin: 0 auto; display: inline-block;\">bad <div title=\"#00000000\" style=\"display: inline-block; width: 1em; height: 1em; margin: 0; vertical-align: middle; border: 1px solid #555; background-color: #00000000;\"></div></div><div style=\"float: right;\">over <div title=\"#cb0035ff\" style=\"display: inline-block; width: 1em; height: 1em; margin: 0; vertical-align: middle; border: 1px solid #555; background-color: #cb0035ff;\"></div></div>"
      ],
      "text/plain": [
       "<matplotlib.colors.LinearSegmentedColormap at 0x7fee099f5e50>"
      ]
     },
     "execution_count": 3,
     "metadata": {},
     "output_type": "execute_result"
    }
   ],
   "source": [
    "potentialtemperature_woce = mpl.colors.LinearSegmentedColormap('potentialtemperature_cmap',segmentdata=cdict_potentialtemperature)\n",
    "potentialtemperature_woce"
   ]
  },
  {
   "cell_type": "markdown",
   "id": "f05c577d-3a29-4731-b764-0dec4c0e5fc9",
   "metadata": {},
   "source": [
    "## Salinity"
   ]
  },
  {
   "cell_type": "code",
   "execution_count": 4,
   "id": "2b7abe47-0f85-47f5-b92b-514fbc082bc2",
   "metadata": {},
   "outputs": [],
   "source": [
    "cdict_salinity = {\n",
    "    'red':((0.0,0.00390625,0.00390625),\n",
    "           (0.14285714285714285,0.0,0.0),\n",
    "           (0.2857142857142857,0.37109375,0.37109375),\n",
    "           (0.42857142857142855,0.6640625,0.6640625),\n",
    "           (0.5714285714285714,0.97265625,0.97265625),\n",
    "           (0.7142857142857143,0.953125,0.953125),\n",
    "           (0.8571428571428571,0.9296875,0.9296875),\n",
    "           (1.0,0.90234375,0.90234375)),\n",
    "    'green':((0.0,0.54296875,0.54296875),\n",
    "           (0.14285714285714285,0.6171875,0.6171875),\n",
    "           (0.2857142857142857,0.71875,0.71875),\n",
    "           (0.42857142857142855,0.84375,0.84375),\n",
    "           (0.5714285714285714,0.86328125,0.86328125),\n",
    "           (0.7142857142857143,0.75390625,0.75390625),\n",
    "           (0.8571428571428571,0.65625,0.65625),\n",
    "           (1.0,0.55468,0.55468)),\n",
    "    'blue':((0.0,0.75390625,0.75390625),\n",
    "           (0.14285714285714285,0.79296875,0.79296875),\n",
    "           (0.2857142857142857,0.84375,0.84375),\n",
    "           (0.42857142857142855,0.89453125,0.89453125),\n",
    "           (0.5714285714285714,0.71875,0.71875),\n",
    "           (0.7142857142857143,0.53125,0.53125),\n",
    "           (0.8571428571428571,0.3828125,0.3828125),\n",
    "           (1.0,0.25,0.25)),\n",
    "}"
   ]
  },
  {
   "cell_type": "code",
   "execution_count": 5,
   "id": "0ecdf44a-bf00-4773-b739-8f7339ea157c",
   "metadata": {},
   "outputs": [
    {
     "data": {
      "image/png": "[encoded data removed]",
      "text/html": [
       "<div style=\"vertical-align: middle;\"><strong>salinity_woce</strong> </div><div class=\"cmap\"><img alt=\"salinity_woce colormap\" title=\"salinity_woce\" style=\"border: 1px solid #555;\" src=\"data:image/png;base64,iVBORw0KGgoAAAANSUhEUgAAAgAAAABACAYAAABsv8+/AAAAHHRFWHRUaXRsZQBzYWxpbml0eV93b2NlIGNvbG9ybWFwTns+8gAAACJ0RVh0RGVzY3JpcHRpb24Ac2FsaW5pdHlfd29jZSBjb2xvcm1hcNMr0LcAAAAwdEVYdEF1dGhvcgBNYXRwbG90bGliIHYzLjguNCwgaHR0cHM6Ly9tYXRwbG90bGliLm9yZ2TOsrQAAAAydEVYdFNvZnR3YXJlAE1hdHBsb3RsaWIgdjMuOC40LCBodHRwczovL21hdHBsb3RsaWIub3JnSmgtkwAAAglJREFUeJzt1kFW6yAAhlEwu3dVrqw4aGgNKYm1dfTfO6kBAtR3fOer5fOrlZ9q/6zl4Xh5db5O1r86PznvTfv24WX94WMdX0p/7vN1u65sx2/rZuP9eThvNv4xnHe/z/E97uPD8/g9Jt9vdo/7umF82Gdcv39+9v2T8TL5Pf/x/afvcXv/+ue2lMs63o4/62VdP1s32ed2zsm6YX4Z3j87Z3evenzO9Huv59V2nS/reGn987J9nsy33fzw3rjfuq6dnvN4n3Z2Tjk+/9f3HfZpu/lx/+34+9Y//v3s1p+c007O/7f1k/f2/w5n+5bt/Gy/t92zDz97z+N79P9XAYAgAgAAAgkAAAgkAAAgkAAAgEACAAACCQAACCQAACCQAACAQAIAAAIJAAAIJAAAIJAAAIBAAgAAAgkAAAgkAAAgkAAAgEACAAACCQAACCQAACCQAACAQAIAAAIJAAAIJAAAIJAAAIBAAgAAAgkAAAgkAAAgkAAAgEACAAACCQAACCQAACCQAACAQAIAAAIJAAAIJAAAIJAAAIBAAgAAAgkAAAgkAAAgkAAAgEACAAACCQAACCQAACCQAACAQAIAAAIJAAAIJAAAIJAAAIBAAgAAAgkAAAgkAAAgkAAAgEACAAACCQAACCQAACCQAACAQAIAAAIJAAAIJAAAIJAAAIBAAgAAAgkAAAj0DQy+8zFeOzXPAAAAAElFTkSuQmCC\"></div><div style=\"vertical-align: middle; max-width: 514px; display: flex; justify-content: space-between;\"><div style=\"float: left;\"><div title=\"#018ac0ff\" style=\"display: inline-block; width: 1em; height: 1em; margin: 0; vertical-align: middle; border: 1px solid #555; background-color: #018ac0ff;\"></div> under</div><div style=\"margin: 0 auto; display: inline-block;\">bad <div title=\"#00000000\" style=\"display: inline-block; width: 1em; height: 1em; margin: 0; vertical-align: middle; border: 1px solid #555; background-color: #00000000;\"></div></div><div style=\"float: right;\">over <div title=\"#e68d40ff\" style=\"display: inline-block; width: 1em; height: 1em; margin: 0; vertical-align: middle; border: 1px solid #555; background-color: #e68d40ff;\"></div></div>"
      ],
      "text/plain": [
       "<matplotlib.colors.LinearSegmentedColormap at 0x7fee099cfa00>"
      ]
     },
     "execution_count": 5,
     "metadata": {},
     "output_type": "execute_result"
    }
   ],
   "source": [
    "salinity_woce = mpl.colors.LinearSegmentedColormap('salinity_woce',segmentdata=cdict_salinity)\n",
    "salinity_woce"
   ]
  },
  {
   "cell_type": "markdown",
   "id": "b31d863f-bdb5-4911-bca2-ecc2dcd58679",
   "metadata": {},
   "source": [
    "## Neutral Density"
   ]
  },
  {
   "cell_type": "code",
   "execution_count": 6,
   "id": "2ab06009-e043-4381-acc4-08d907d2d862",
   "metadata": {},
   "outputs": [],
   "source": [
    "cdict_neutraldensity = {\n",
    "    'red':((0.0,0.796875,0.796875),\n",
    "           (0.14285714285714285,0.83984375,0.83984375),\n",
    "           (0.2857142857142857,0.8828125,0.8828125),\n",
    "           (0.42857142857142855,0.93359375,0.93359375),\n",
    "           (0.5714285714285714,0.671875,0.671875),\n",
    "           (0.7142857142857143,0.421875,0.421875),\n",
    "           (0.8571428571428571,0.22265625,0.22265625),\n",
    "           (1.0,0.00390625,0.00390625)),\n",
    "    'green':((0.0,0.0,0.0),\n",
    "           (0.14285714285714285,0.28515625,0.28515625),\n",
    "           (0.2857142857142857,0.48046875,0.48046875),\n",
    "           (0.42857142857142855,0.71484375,0.71484375),\n",
    "           (0.5714285714285714,0.8046875,0.8046875),\n",
    "           (0.7142857142857143,0.65625,0.65625),\n",
    "           (0.8571428571428571,0.55078125,0.55078125),\n",
    "           (1.0,0.45703125,0.45703125)),\n",
    "    'blue':((0.0,0.20703125,0.20703125),\n",
    "           (0.14285714285714285,0.30859375,0.30859375),\n",
    "           (0.2857142857142857,0.453125,0.453125),\n",
    "           (0.42857142857142855,0.6640625,0.6640625),\n",
    "           (0.5714285714285714,0.671875,0.671875),\n",
    "           (0.7142857142857143,0.45703125,0.45703125),\n",
    "           (0.8571428571428571,0.30078125,0.30078125),\n",
    "           (1.0,0.1953125,0.1953125)),\n",
    "}"
   ]
  },
  {
   "cell_type": "code",
   "execution_count": 7,
   "id": "e7c4109c-f378-4798-b696-3149911d4623",
   "metadata": {},
   "outputs": [
    {
     "data": {
      "image/png": "[encoded data removed]",
      "text/html": [
       "<div style=\"vertical-align: middle;\"><strong>neutraldensity_woce</strong> </div><div class=\"cmap\"><img alt=\"neutraldensity_woce colormap\" title=\"neutraldensity_woce\" style=\"border: 1px solid #555;\" src=\"data:image/png;base64,iVBORw0KGgoAAAANSUhEUgAAAgAAAABACAYAAABsv8+/AAAAInRFWHRUaXRsZQBuZXV0cmFsZGVuc2l0eV93b2NlIGNvbG9ybWFwdrkJMQAAACh0RVh0RGVzY3JpcHRpb24AbmV1dHJhbGRlbnNpdHlfd29jZSBjb2xvcm1hcIAOz1EAAAAwdEVYdEF1dGhvcgBNYXRwbG90bGliIHYzLjguNCwgaHR0cHM6Ly9tYXRwbG90bGliLm9yZ2TOsrQAAAAydEVYdFNvZnR3YXJlAE1hdHBsb3RsaWIgdjMuOC40LCBodHRwczovL21hdHBsb3RsaWIub3JnSmgtkwAAAftJREFUeJzt1l1uqzAURtEDY+r8J9A5QR/Cj2LiAlWqVvrWekEYGzuoV3cPn/UxV1XVMFRVVY2P6zDW0/0+vt73nt9bd/6+e+t+733Ltf1Ow8l4s643vj3/6T439zvsczJ+/feOzfjz/foHsn/X8d767njnPdvvevM5OusP37EZn5frtDx+/OPb77drZ/x8/vB0P19872H+xXN157fnuXr+ZcY8P67TPC3X5/t/93z6q/2X73X4br3xZn3zvLd+mjvztvXT63md9efn7ryvc+7L+1Z1xtf75vn2njrZv17ve7J+P0d9/7vefO513vrfHQAQRAAAQCABAACBBAAABBIAABBIAABAIAEAAIEEAAAEEgAAEEgAAEAgAQAAgQQAAAQSAAAQSAAAQCABAACBBAAABBIAABBIAABAIAEAAIEEAAAEEgAAEEgAAEAgAQAAgQQAAAQSAAAQSAAAQCABAACBBAAABBIAABBIAABAIAEAAIEEAAAEEgAAEEgAAEAgAQAAgQQAAAQSAAAQSAAAQCABAACBBAAABBIAABBIAABAIAEAAIEEAAAEEgAAEEgAAEAgAQAAgQQAAAQSAAAQSAAAQCABAACBBAAABBIAABBIAABAIAEAAIEEAAAEEgAAEEgAAEAgAQAAgQQAAAQSAAAQSAAAQCABAACBvgBbe1Az7yGwQAAAAABJRU5ErkJggg==\"></div><div style=\"vertical-align: middle; max-width: 514px; display: flex; justify-content: space-between;\"><div style=\"float: left;\"><div title=\"#cb0035ff\" style=\"display: inline-block; width: 1em; height: 1em; margin: 0; vertical-align: middle; border: 1px solid #555; background-color: #cb0035ff;\"></div> under</div><div style=\"margin: 0 auto; display: inline-block;\">bad <div title=\"#00000000\" style=\"display: inline-block; width: 1em; height: 1em; margin: 0; vertical-align: middle; border: 1px solid #555; background-color: #00000000;\"></div></div><div style=\"float: right;\">over <div title=\"#017532ff\" style=\"display: inline-block; width: 1em; height: 1em; margin: 0; vertical-align: middle; border: 1px solid #555; background-color: #017532ff;\"></div></div>"
      ],
      "text/plain": [
       "<matplotlib.colors.LinearSegmentedColormap at 0x7fee099cf850>"
      ]
     },
     "execution_count": 7,
     "metadata": {},
     "output_type": "execute_result"
    }
   ],
   "source": [
    "neutraldensity_woce = mpl.colors.LinearSegmentedColormap('neutraldensity_woce',segmentdata=cdict_neutraldensity)\n",
    "neutraldensity_woce"
   ]
  },
  {
   "cell_type": "markdown",
   "id": "a3725b1f-3053-4194-8f8c-788ad7473a49",
   "metadata": {},
   "source": [
    "## Potential Density"
   ]
  },
  {
   "cell_type": "code",
   "execution_count": 8,
   "id": "5d3fd704-3df2-4cbe-867d-5c4a0cb63c66",
   "metadata": {},
   "outputs": [],
   "source": [
    "cdict_potentialdensity = {\n",
    "    'red':((0.0,0.93359375,0.93359375),\n",
    "           (0.5,0.421875,0.421875),\n",
    "           (1.0,0.0,0.0)),\n",
    "    'green':((0.0,0.71484375,0.71484375),\n",
    "           (0.5,0.65625,0.65625),\n",
    "           (1.0,0.6171875,0.6171875)),\n",
    "    'blue':((0.0,0.6640625,0.6640625),\n",
    "           (0.5,0.45703125,0.45703125),\n",
    "           (1.0,0.79296875,0.79296875)),\n",
    "}"
   ]
  },
  {
   "cell_type": "code",
   "execution_count": 9,
   "id": "d1b44244-f502-4266-9991-003e55848ca7",
   "metadata": {},
   "outputs": [
    {
     "data": {
      "image/png": "[encoded data removed]",
      "text/html": [
       "<div style=\"vertical-align: middle;\"><strong>potentialdensity_woce</strong> </div><div class=\"cmap\"><img alt=\"potentialdensity_woce colormap\" title=\"potentialdensity_woce\" style=\"border: 1px solid #555;\" src=\"data:image/png;base64,iVBORw0KGgoAAAANSUhEUgAAAgAAAABACAYAAABsv8+/AAAAJHRFWHRUaXRsZQBwb3RlbnRpYWxkZW5zaXR5X3dvY2UgY29sb3JtYXBH/2qrAAAAKnRFWHREZXNjcmlwdGlvbgBwb3RlbnRpYWxkZW5zaXR5X3dvY2UgY29sb3JtYXBQBZA+AAAAMHRFWHRBdXRob3IATWF0cGxvdGxpYiB2My44LjQsIGh0dHBzOi8vbWF0cGxvdGxpYi5vcmdkzrK0AAAAMnRFWHRTb2Z0d2FyZQBNYXRwbG90bGliIHYzLjguNCwgaHR0cHM6Ly9tYXRwbG90bGliLm9yZ0poLZMAAAGfSURBVHic7dZBbsIwFEBB0/tfpBfosXoEzIJ2QVBEnEVF9WY2AcuYT8LiXb6/PucYY8wxx/16d/15sV1/fr+zPk9+7umco3O8OH/3nL+dY/++Hp3j5Oe2628/x9r/7Pomc6zfj7P/s6NzHJ3rsrn+nve4Pl7tHyf3z8f1cfD8s9+z+juW55qL+zfr4+j+ubj/5Pme/+Jc/+T5fwwAIEcAAECQAACAIAEAAEECAACCBAAABAkAAAgSAAAQJAAAIEgAAECQAACAIAEAAEECAACCBAAABAkAAAgSAAAQJAAAIEgAAECQAACAIAEAAEECAACCBAAABAkAAAgSAAAQJAAAIEgAAECQAACAIAEAAEECAACCBAAABAkAAAgSAAAQJAAAIEgAAECQAACAIAEAAEECAACCBAAABAkAAAgSAAAQJAAAIEgAAECQAACAIAEAAEECAACCBAAABAkAAAgSAAAQJAAAIEgAAECQAACAIAEAAEECAACCBAAABAkAAAgSAAAQJAAAIEgAAECQAACAIAEAAEECAACCBAAABAkAAAi6AeBAO/Vl1GdbAAAAAElFTkSuQmCC\"></div><div style=\"vertical-align: middle; max-width: 514px; display: flex; justify-content: space-between;\"><div style=\"float: left;\"><div title=\"#eeb6a9ff\" style=\"display: inline-block; width: 1em; height: 1em; margin: 0; vertical-align: middle; border: 1px solid #555; background-color: #eeb6a9ff;\"></div> under</div><div style=\"margin: 0 auto; display: inline-block;\">bad <div title=\"#00000000\" style=\"display: inline-block; width: 1em; height: 1em; margin: 0; vertical-align: middle; border: 1px solid #555; background-color: #00000000;\"></div></div><div style=\"float: right;\">over <div title=\"#009dcaff\" style=\"display: inline-block; width: 1em; height: 1em; margin: 0; vertical-align: middle; border: 1px solid #555; background-color: #009dcaff;\"></div></div>"
      ],
      "text/plain": [
       "<matplotlib.colors.LinearSegmentedColormap at 0x7fee099cf490>"
      ]
     },
     "execution_count": 9,
     "metadata": {},
     "output_type": "execute_result"
    }
   ],
   "source": [
    "potentialdensity_woce = mpl.colors.LinearSegmentedColormap('potentialdensity_woce',segmentdata=cdict_potentialdensity)\n",
    "potentialdensity_woce"
   ]
  },
  {
   "cell_type": "markdown",
   "id": "ec1017e1-2531-422f-b1d6-cf864002f1e2",
   "metadata": {},
   "source": [
    "## Oxygen"
   ]
  },
  {
   "cell_type": "code",
   "execution_count": 10,
   "id": "07368bdb-176d-469d-a50b-75de1b1f80ec",
   "metadata": {},
   "outputs": [],
   "source": [
    "cdict_oxygen = {\n",
    "    'red':((0.0,0.98046875,0.98046875),\n",
    "           (0.166666667,0.96875,0.96875),\n",
    "           (0.333333333,0.93359375,0.93359375),\n",
    "           (0.5,0.8203125,0.8203125),\n",
    "           (0.666666667,0.6953125,0.6953125),\n",
    "           (0.833333333,0.59375,0.59375),\n",
    "           (1.0,0.50390625,0.50390625)),\n",
    "    'green':((0.0,0.90625,0.90625),\n",
    "             (0.166666667,0.921875,0.921875),\n",
    "             (0.333333333,0.92578125,0.92578125),\n",
    "             (0.5,0.71875,0.71875),\n",
    "             (0.666666667,0.5078125,0.5078125),\n",
    "             (0.833333333,0.3359375,0.3359375),\n",
    "             (1.0,0.19921875,0.19921875)),\n",
    "    'blue':((0.0,0.246093755,0.246093755),\n",
    "            (0.166666667,0.51171875,0.51171875),\n",
    "            (0.333333333,0.734375,0.734375),\n",
    "            (0.5,0.765625,0.765625),\n",
    "            (0.666666667,0.66015625,0.66015625),\n",
    "            (0.833333333,0.54296875,0.54296875),\n",
    "            (1.0,0.48046875,0.48046875)),\n",
    "}"
   ]
  },
  {
   "cell_type": "code",
   "execution_count": 11,
   "id": "6d59020c-0442-4c4f-80da-7796cfb8ccb4",
   "metadata": {},
   "outputs": [
    {
     "data": {
      "image/png": "[encoded data removed]",
      "text/html": [
       "<div style=\"vertical-align: middle;\"><strong>oxygen_woce</strong> </div><div class=\"cmap\"><img alt=\"oxygen_woce colormap\" title=\"oxygen_woce\" style=\"border: 1px solid #555;\" src=\"data:image/png;base64,iVBORw0KGgoAAAANSUhEUgAAAgAAAABACAYAAABsv8+/AAAAGnRFWHRUaXRsZQBveHlnZW5fd29jZSBjb2xvcm1hcLBOnB0AAAAgdEVYdERlc2NyaXB0aW9uAG94eWdlbl93b2NlIGNvbG9ybWFwIVDYSwAAADB0RVh0QXV0aG9yAE1hdHBsb3RsaWIgdjMuOC40LCBodHRwczovL21hdHBsb3RsaWIub3JnZM6ytAAAADJ0RVh0U29mdHdhcmUATWF0cGxvdGxpYiB2My44LjQsIGh0dHBzOi8vbWF0cGxvdGxpYi5vcmdKaC2TAAACCUlEQVR4nO3WTW6DMBRGUZOFdf876R46qDtICOIZJ6C2o++cSYTBPyRqdZevz4/eWmu93drd8vi8lc86PnluOfdcP7veOr787nzjftfOe/X9x+/zeP78e5id/3/X2db7m/NfXmf4ncv5v+9XvT+G+3q9vLnfdvfb+ny538r8dd1W5r/bf9i3Pv+9HI8P+ywv7w/7T99jtn/fjz+ut/33C2z79+P5ZXzb93jd6/PLOc7On4w/50/OdX7+7Fznxtts32H8+Peafb91/vA7v1tvOn5tvff7vH7vcd7usW18P33+PT8ffL1uff7sc/N1y3U58Pj3Wtet73Nt3Xq9/rcFAIIIAAAIJAAAIJAAAIBAAgAAAgkAAAgkAAAgkAAAgEACAAACCQAACCQAACCQAACAQAIAAAIJAAAIJAAAIJAAAIBAAgAAAgkAAAgkAAAgkAAAgEACAAACCQAACCQAACCQAACAQAIAAAIJAAAIJAAAIJAAAIBAAgAAAgkAAAgkAAAgkAAAgEACAAACCQAACCQAACCQAACAQAIAAAIJAAAIJAAAIJAAAIBAAgAAAgkAAAgkAAAgkAAAgEACAAACCQAACCQAACCQAACAQAIAAAIJAAAIJAAAIJAAAIBAAgAAAgkAAAgkAAAgkAAAgEACAAACCQAACCQAACCQAACAQAIAAAIJAAAIJAAAINAPRlNoukCeGr4AAAAASUVORK5CYII=\"></div><div style=\"vertical-align: middle; max-width: 514px; display: flex; justify-content: space-between;\"><div style=\"float: left;\"><div title=\"#fae73fff\" style=\"display: inline-block; width: 1em; height: 1em; margin: 0; vertical-align: middle; border: 1px solid #555; background-color: #fae73fff;\"></div> under</div><div style=\"margin: 0 auto; display: inline-block;\">bad <div title=\"#00000000\" style=\"display: inline-block; width: 1em; height: 1em; margin: 0; vertical-align: middle; border: 1px solid #555; background-color: #00000000;\"></div></div><div style=\"float: right;\">over <div title=\"#80337bff\" style=\"display: inline-block; width: 1em; height: 1em; margin: 0; vertical-align: middle; border: 1px solid #555; background-color: #80337bff;\"></div></div>"
      ],
      "text/plain": [
       "<matplotlib.colors.LinearSegmentedColormap at 0x7fee099cfe80>"
      ]
     },
     "execution_count": 11,
     "metadata": {},
     "output_type": "execute_result"
    }
   ],
   "source": [
    "oxygen_woce = mpl.colors.LinearSegmentedColormap('oxygen_woce',segmentdata=cdict_oxygen)\n",
    "oxygen_woce"
   ]
  },
  {
   "cell_type": "markdown",
   "id": "614f2c05-968b-4303-a692-7581abe8be03",
   "metadata": {},
   "source": [
    "## Phosphate"
   ]
  },
  {
   "cell_type": "code",
   "execution_count": 12,
   "id": "ff2dca53-bab5-40d5-bb17-9e3ad904e517",
   "metadata": {},
   "outputs": [],
   "source": [
    "cdict_phosphate = {\n",
    "    'red':((0.0,0.90234375,0.90234375),\n",
    "           (0.14285714285714285,0.9296875,0.9296875),\n",
    "           (0.2857142857142857,0.953125,0.953125),\n",
    "           (0.42857142857142855,0.97265625,0.97265625),\n",
    "           (0.5714285714285714,0.671875,0.671875),\n",
    "           (0.7142857142857143,0.421875,0.421875),\n",
    "           (0.8571428571428571,0.22265625,0.22265625),\n",
    "           (1.0,0.00390625,0.00390625)),\n",
    "    'green':((0.0,0.5546875,0.5546875),\n",
    "           (0.14285714285714285,0.65625,0.65625),\n",
    "           (0.2857142857142857,0.75390625,0.75390625),\n",
    "           (0.42857142857142855,0.86328125,0.86328125),\n",
    "           (0.5714285714285714,0.8046875,0.8046875),\n",
    "           (0.7142857142857143,0.65625,0.65625),\n",
    "           (0.8571428571428571,0.55078125,0.55078125),\n",
    "           (1.0,0.45703125,0.45703125)),\n",
    "    'blue':((0.0,0.25,0.25),\n",
    "           (0.14285714285714285,0.3828125,0.3828125),\n",
    "           (0.2857142857142857,0.53125,0.53125),\n",
    "           (0.42857142857142855,0.71875,0.71875),\n",
    "           (0.5714285714285714,0.671875,0.671875),\n",
    "           (0.7142857142857143,0.45703125,0.45703125),\n",
    "           (0.8571428571428571,0.30078125,0.30078125),\n",
    "           (1.0,0.1953125,0.1953125)),\n",
    "}"
   ]
  },
  {
   "cell_type": "code",
   "execution_count": 13,
   "id": "ce292c5f-aa0a-4391-8c88-f67025257e19",
   "metadata": {},
   "outputs": [
    {
     "data": {
      "image/png": "[encoded data removed]",
      "text/html": [
       "<div style=\"vertical-align: middle;\"><strong>phosphate_woce</strong> </div><div class=\"cmap\"><img alt=\"phosphate_woce colormap\" title=\"phosphate_woce\" style=\"border: 1px solid #555;\" src=\"data:image/png;base64,iVBORw0KGgoAAAANSUhEUgAAAgAAAABACAYAAABsv8+/AAAAHXRFWHRUaXRsZQBwaG9zcGhhdGVfd29jZSBjb2xvcm1hcKTZIOcAAAAjdEVYdERlc2NyaXB0aW9uAHBob3NwaGF0ZV93b2NlIGNvbG9ybWFwovLFFgAAADB0RVh0QXV0aG9yAE1hdHBsb3RsaWIgdjMuOC40LCBodHRwczovL21hdHBsb3RsaWIub3JnZM6ytAAAADJ0RVh0U29mdHdhcmUATWF0cGxvdGxpYiB2My44LjQsIGh0dHBzOi8vbWF0cGxvdGxpYi5vcmdKaC2TAAACAUlEQVR4nO3WQW6DMABFQZOL5YS9Zm8BdBFMhcGBKFVb6c9sUGywnVBVb/j8uM+llFKGoTws12F7HU7m6/h6Xx3u3V/XPVlvt3/3HPXyfL/9OU++14vn/LX7u/O3w/Gr7+/t+9f52/FzzfmGdvzFdfrv+/h3WJ/bfY83z9t7D838vFynMi/Xh2kum/Fx/Vznm/t74806dXxsx9v1e+PN+uPVfS+uP+7WeXye6/g8bfdbPv+7+emv9l9+r9L+br3x5vlmvvd8+172z0/H93WePz93Z73OuS/vW0pnvH5u5pu/2/7+5Xjfk+e/z1Gef68fPne9r/53AwCCCAAACCQAACCQAACAQAIAAAIJAAAIJAAAIJAAAIBAAgAAAgkAAAgkAAAgkAAAgEACAAACCQAACCQAACCQAACAQAIAAAIJAAAIJAAAIJAAAIBAAgAAAgkAAAgkAAAgkAAAgEACAAACCQAACCQAACCQAACAQAIAAAIJAAAIJAAAIJAAAIBAAgAAAgkAAAgkAAAgkAAAgEACAAACCQAACCQAACCQAACAQAIAAAIJAAAIJAAAIJAAAIBAAgAAAgkAAAgkAAAgkAAAgEACAAACCQAACCQAACCQAACAQAIAAAIJAAAIJAAAIJAAAIBAAgAAAgkAAAgkAAAgkAAAgEACAAACCQAACCQAACDQFzM0azMKJdiLAAAAAElFTkSuQmCC\"></div><div style=\"vertical-align: middle; max-width: 514px; display: flex; justify-content: space-between;\"><div style=\"float: left;\"><div title=\"#e68d40ff\" style=\"display: inline-block; width: 1em; height: 1em; margin: 0; vertical-align: middle; border: 1px solid #555; background-color: #e68d40ff;\"></div> under</div><div style=\"margin: 0 auto; display: inline-block;\">bad <div title=\"#00000000\" style=\"display: inline-block; width: 1em; height: 1em; margin: 0; vertical-align: middle; border: 1px solid #555; background-color: #00000000;\"></div></div><div style=\"float: right;\">over <div title=\"#017532ff\" style=\"display: inline-block; width: 1em; height: 1em; margin: 0; vertical-align: middle; border: 1px solid #555; background-color: #017532ff;\"></div></div>"
      ],
      "text/plain": [
       "<matplotlib.colors.LinearSegmentedColormap at 0x7fee099cfe50>"
      ]
     },
     "execution_count": 13,
     "metadata": {},
     "output_type": "execute_result"
    }
   ],
   "source": [
    "phosphate_woce = mpl.colors.LinearSegmentedColormap('phosphate_woce',segmentdata=cdict_phosphate)\n",
    "phosphate_woce"
   ]
  },
  {
   "cell_type": "markdown",
   "id": "dad08aae-c20a-44d7-bc60-3ea5e89a9478",
   "metadata": {},
   "source": [
    "## Nitrate"
   ]
  },
  {
   "cell_type": "code",
   "execution_count": 14,
   "id": "876c49bd-7299-4502-885b-bd40a4ddfb47",
   "metadata": {},
   "outputs": [],
   "source": [
    "cdict_nitrate = {\n",
    "    'red':((0.0,0.0,0.0),\n",
    "           (0.142857143,0.27734375,0.27734375),\n",
    "           (0.285714286,0.48828125,0.48828125),\n",
    "           (0.428571429,0.734375,0.734375),\n",
    "           (0.571428571,0.8203125,0.8203125),\n",
    "           (0.714285714,0.6953125,0.6953125),\n",
    "           (0.857142857,0.59375,0.59375),\n",
    "           (1.0,0.50390625,0.50390625)),\n",
    "    'green':((0.0,0.53125,0.53125),\n",
    "             (0.142857143,0.6171875,0.6171875),\n",
    "             (0.285714286,0.70703125,0.70703125),\n",
    "             (0.428571429,0.8359375,0.8359375),\n",
    "             (0.571428571,0.7265625,0.7265625),\n",
    "             (0.714285714,0.5078125,0.5078125),\n",
    "             (0.857142857,0.3359375,0.3359375),\n",
    "             (1.0,0.19921875,0.19921875)),\n",
    "    'blue':((0.0,0.28125,0.28125),\n",
    "            (0.142857143,0.375,0.375),\n",
    "            (0.285714286,0.5234375,0.5234375),\n",
    "            (0.428571429,0.72265625,0.72265625),\n",
    "            (0.571428571,0.765625,0.765625),\n",
    "            (0.714285714,0.66015625,0.66015625),\n",
    "            (0.857142857,0.54296875,0.54296875),\n",
    "            (1.0,0.48046875,0.48046875)),\n",
    "}"
   ]
  },
  {
   "cell_type": "code",
   "execution_count": 15,
   "id": "25209299-d7b8-46be-b98a-9eea93be9a4f",
   "metadata": {},
   "outputs": [
    {
     "data": {
      "image/png": "[encoded data removed]",
      "text/html": [
       "<div style=\"vertical-align: middle;\"><strong>nitrate_woce</strong> </div><div class=\"cmap\"><img alt=\"nitrate_woce colormap\" title=\"nitrate_woce\" style=\"border: 1px solid #555;\" src=\"data:image/png;base64,iVBORw0KGgoAAAANSUhEUgAAAgAAAABACAYAAABsv8+/AAAAG3RFWHRUaXRsZQBuaXRyYXRlX3dvY2UgY29sb3JtYXCEnKk8AAAAIXRFWHREZXNjcmlwdGlvbgBuaXRyYXRlX3dvY2UgY29sb3JtYXAGBUO5AAAAMHRFWHRBdXRob3IATWF0cGxvdGxpYiB2My44LjQsIGh0dHBzOi8vbWF0cGxvdGxpYi5vcmdkzrK0AAAAMnRFWHRTb2Z0d2FyZQBNYXRwbG90bGliIHYzLjguNCwgaHR0cHM6Ly9tYXRwbG90bGliLm9yZ0poLZMAAAIUSURBVHic7dZLcpxAEEXRpDfnpWnXwgM1ODqLNO1QKDx450wQBfWhJ7pbffzaq6q2bauqqkc9r1+X9f72vZvxauu08fEcP7xvX38b930+P9+7Hj/vl3Vv3v/2/Mdb88d1v/1dw/7HeL3e933W8Ud7fqzb13tv/rzu4/I7//k8077Vrns9vd6f48f983m159vexo/l9mG9vm9fb9jnXK+G8eW8w/luv/f1/dq//tg/n9fzvtr99fNl/vleDfNen9fN87tzrfPf2/e4X79/mL/39+t6vL/ff8dxvfa7DO//Off1usvvsQ/rfg7n6Ov232k5fz9HP3/9dXzat9q8ab9l//rP+w/rHv//AIAgAgAAAgkAAAgkAAAgkAAAgEACAAACCQAACCQAACCQAACAQAIAAAIJAAAIJAAAIJAAAIBAAgAAAgkAAAgkAAAgkAAAgEACAAACCQAACCQAACCQAACAQAIAAAIJAAAIJAAAIJAAAIBAAgAAAgkAAAgkAAAgkAAAgEACAAACCQAACCQAACCQAACAQAIAAAIJAAAIJAAAIJAAAIBAAgAAAgkAAAgkAAAgkAAAgEACAAACCQAACCQAACCQAACAQAIAAAIJAAAIJAAAIJAAAIBAAgAAAgkAAAgkAAAgkAAAgEACAAACCQAACCQAACCQAACAQAIAAAIJAAAIJAAAIJAAAIBAAgAAAgkAAAj0GwvWI7rlARLKAAAAAElFTkSuQmCC\"></div><div style=\"vertical-align: middle; max-width: 514px; display: flex; justify-content: space-between;\"><div style=\"float: left;\"><div title=\"#008748ff\" style=\"display: inline-block; width: 1em; height: 1em; margin: 0; vertical-align: middle; border: 1px solid #555; background-color: #008748ff;\"></div> under</div><div style=\"margin: 0 auto; display: inline-block;\">bad <div title=\"#00000000\" style=\"display: inline-block; width: 1em; height: 1em; margin: 0; vertical-align: middle; border: 1px solid #555; background-color: #00000000;\"></div></div><div style=\"float: right;\">over <div title=\"#80337bff\" style=\"display: inline-block; width: 1em; height: 1em; margin: 0; vertical-align: middle; border: 1px solid #555; background-color: #80337bff;\"></div></div>"
      ],
      "text/plain": [
       "<matplotlib.colors.LinearSegmentedColormap at 0x7fee099cfca0>"
      ]
     },
     "execution_count": 15,
     "metadata": {},
     "output_type": "execute_result"
    }
   ],
   "source": [
    "nitrate_woce = mpl.colors.LinearSegmentedColormap('nitrate_woce',segmentdata=cdict_nitrate)\n",
    "nitrate_woce"
   ]
  },
  {
   "cell_type": "markdown",
   "id": "aefbe3c8-8ad0-46eb-bba1-f7f642f2633b",
   "metadata": {},
   "source": [
    "## Silicate"
   ]
  },
  {
   "cell_type": "code",
   "execution_count": 16,
   "id": "664275c4-cf2a-4e3c-b39f-0caa36d62f3c",
   "metadata": {},
   "outputs": [],
   "source": [
    "cdict_silicate = {\n",
    "    'red':((0.0,0.99609375,0.99609375),\n",
    "           (0.14285714285714285,0.99609375,0.99609375),\n",
    "           (0.2857142857142857,0.99609375,0.99609375),\n",
    "           (0.42857142857142855,0.99609375,0.99609375),\n",
    "           (0.5714285714285714,0.93359375,0.93359375),\n",
    "           (0.7142857142857143,0.8828125,0.8828125),\n",
    "           (0.8571428571428571,0.83984375,0.83984375),\n",
    "           (1.0,0.796875,0.796875)),\n",
    "    'green':((0.0,0.94140625,0.94140625),\n",
    "           (0.14285714285714285,0.9453125,0.9453125),\n",
    "           (0.2857142857142857,0.96484375,0.96484375),\n",
    "           (0.42857142857142855,0.98046875,0.98046875),\n",
    "           (0.5714285714285714,0.71484375,0.71484375),\n",
    "           (0.7142857142857143,0.48046875,0.48046875),\n",
    "           (0.8571428571428571,0.28515625,0.28515625),\n",
    "           (1.0,0.0,0.0)),\n",
    "    'blue':((0.0,0.046875,0.046875),\n",
    "           (0.14285714285714285,0.32421875,0.32421875),\n",
    "           (0.2857142857142857,0.53125,0.53125),\n",
    "           (0.42857142857142855,0.7421875,0.7421875),\n",
    "           (0.5714285714285714,0.6640625,0.6640625),\n",
    "           (0.7142857142857143,0.453125,0.453125),\n",
    "           (0.8571428571428571,0.30859375,0.30859375),\n",
    "           (1.0,0.20703125,0.20703125)),\n",
    "}"
   ]
  },
  {
   "cell_type": "code",
   "execution_count": 17,
   "id": "e5a9452b-fbe6-4821-96b5-d2c3b365b6e3",
   "metadata": {},
   "outputs": [
    {
     "data": {
      "image/png": "[encoded data removed]",
      "text/html": [
       "<div style=\"vertical-align: middle;\"><strong>silicate_woce</strong> </div><div class=\"cmap\"><img alt=\"silicate_woce colormap\" title=\"silicate_woce\" style=\"border: 1px solid #555;\" src=\"data:image/png;base64,iVBORw0KGgoAAAANSUhEUgAAAgAAAABACAYAAABsv8+/AAAAHHRFWHRUaXRsZQBzaWxpY2F0ZV93b2NlIGNvbG9ybWFwf6WBWgAAACJ0RVh0RGVzY3JpcHRpb24Ac2lsaWNhdGVfd29jZSBjb2xvcm1hcOL1bx8AAAAwdEVYdEF1dGhvcgBNYXRwbG90bGliIHYzLjguNCwgaHR0cHM6Ly9tYXRwbG90bGliLm9yZ2TOsrQAAAAydEVYdFNvZnR3YXJlAE1hdHBsb3RsaWIgdjMuOC40LCBodHRwczovL21hdHBsb3RsaWIub3JnSmgtkwAAAdBJREFUeJzt1stuozAAQFGn2/7/f/YLTBdDpioRA0HRZHHP2UR2MAby0L3Nr89ljDHG+Bjvfb29ef/NddzOXufB+Lb3/tV1B+Or6x72fdV9/ufrf/j8XvU8nvz8dsbL+msb88/LMteJZTOe9+OWdX47vrpuHS8H53163e/x4/2dW7c9fsx5cn7+Ps9m/Pf4s+vn/Qb+vf78fhev4+x57893Z/7n+Z+cn5vzPbnf7vzO/kf7PX2/D9/nne/l4fzVda8+397v7OK69Tnd/50AgBABAABBAgAAggQAAAQJAAAIEgAAECQAACBIAABAkAAAgCABAABBAgAAggQAAAQJAAAIEgAAECQAACBIAABAkAAAgCABAABBAgAAggQAAAQJAAAIEgAAECQAACBIAABAkAAAgCABAABBAgAAggQAAAQJAAAIEgAAECQAACBIAABAkAAAgCABAABBAgAAggQAAAQJAAAIEgAAECQAACBIAABAkAAAgCABAABBAgAAggQAAAQJAAAIEgAAECQAACBIAABAkAAAgCABAABBAgAAggQAAAQJAAAIEgAAECQAACBIAABAkAAAgCABAABBAgAAggQAAAQJAAAIEgAAECQAACDoG3MxPo1iOkKaAAAAAElFTkSuQmCC\"></div><div style=\"vertical-align: middle; max-width: 514px; display: flex; justify-content: space-between;\"><div style=\"float: left;\"><div title=\"#fef00cff\" style=\"display: inline-block; width: 1em; height: 1em; margin: 0; vertical-align: middle; border: 1px solid #555; background-color: #fef00cff;\"></div> under</div><div style=\"margin: 0 auto; display: inline-block;\">bad <div title=\"#00000000\" style=\"display: inline-block; width: 1em; height: 1em; margin: 0; vertical-align: middle; border: 1px solid #555; background-color: #00000000;\"></div></div><div style=\"float: right;\">over <div title=\"#cb0035ff\" style=\"display: inline-block; width: 1em; height: 1em; margin: 0; vertical-align: middle; border: 1px solid #555; background-color: #cb0035ff;\"></div></div>"
      ],
      "text/plain": [
       "<matplotlib.colors.LinearSegmentedColormap at 0x7fee099cfbb0>"
      ]
     },
     "execution_count": 17,
     "metadata": {},
     "output_type": "execute_result"
    }
   ],
   "source": [
    "silicate_woce = mpl.colors.LinearSegmentedColormap('silicate_woce',segmentdata=cdict_silicate)\n",
    "silicate_woce"
   ]
  },
  {
   "cell_type": "markdown",
   "id": "0dcfb77d-45a6-4fa2-84ea-e700a96a3e86",
   "metadata": {},
   "source": [
    "## Alkalinity"
   ]
  },
  {
   "cell_type": "code",
   "execution_count": 18,
   "id": "2d2fd2e5-6861-4ab0-aee8-807c3103d275",
   "metadata": {},
   "outputs": [],
   "source": [
    "cdict_alkalinity = {\n",
    "    'red':((0.0,0.41796875,0.41796875),\n",
    "           (0.14285714285714285,0.51953125,0.51953125),\n",
    "           (0.2857142857142857,0.625,0.625),\n",
    "           (0.42857142857142855,0.7734375,0.7734375),\n",
    "           (0.5714285714285714,0.97265625,0.97265625),\n",
    "           (0.7142857142857143,0.953125,0.953125),\n",
    "           (0.8571428571428571,0.9296875,0.9296875),\n",
    "           (1.0,0.90234375,0.90234375)),\n",
    "    'green':((0.0,0.1015625,0.1015625),\n",
    "           (0.14285714285714285,0.25,0.25),\n",
    "           (0.2857142857142857,0.421875,0.421875),\n",
    "           (0.42857142857142855,0.671875,0.671875),\n",
    "           (0.5714285714285714,0.86328125,0.86328125),\n",
    "           (0.7142857142857143,0.75390625,0.75390625),\n",
    "           (0.8571428571428571,0.65625,0.65625),\n",
    "           (1.0,0.5546875,0.5546875)),\n",
    "    'blue':((0.0,0.41015625,0.41015625),\n",
    "           (0.14285714285714285,0.50390625,0.50390625),\n",
    "           (0.2857142857142857,0.61328125,0.61328125),\n",
    "           (0.42857142857142855,0.77734375,0.77734375),\n",
    "           (0.5714285714285714,0.71875,0.71875),\n",
    "           (0.7142857142857143,0.53125,0.53125),\n",
    "           (0.8571428571428571,0.3828125,0.3828125),\n",
    "           (1.0,0.25,0.25)),\n",
    "}"
   ]
  },
  {
   "cell_type": "code",
   "execution_count": 19,
   "id": "653e7659-3443-44f7-997c-600a00419f5e",
   "metadata": {},
   "outputs": [
    {
     "data": {
      "image/png": "[encoded data removed]",
      "text/html": [
       "<div style=\"vertical-align: middle;\"><strong>alkalinity_woce</strong> </div><div class=\"cmap\"><img alt=\"alkalinity_woce colormap\" title=\"alkalinity_woce\" style=\"border: 1px solid #555;\" src=\"data:image/png;base64,iVBORw0KGgoAAAANSUhEUgAAAgAAAABACAYAAABsv8+/AAAAHnRFWHRUaXRsZQBhbGthbGluaXR5X3dvY2UgY29sb3JtYXAMvBLvAAAAJHRFWHREZXNjcmlwdGlvbgBhbGthbGluaXR5X3dvY2UgY29sb3JtYXDGAPuAAAAAMHRFWHRBdXRob3IATWF0cGxvdGxpYiB2My44LjQsIGh0dHBzOi8vbWF0cGxvdGxpYi5vcmdkzrK0AAAAMnRFWHRTb2Z0d2FyZQBNYXRwbG90bGliIHYzLjguNCwgaHR0cHM6Ly9tYXRwbG90bGliLm9yZ0poLZMAAAIASURBVHic7dZBUsMgAIZR4Bbe0PH+a3HRpE5IkdSpbv73NjGQQCs689WPt/deSim11nK7lpu23w/j9bnx+v3DU+Pf81fHF+u2V+9Xh3Un8/v7bbXvvt7se6y+z+RcTuc4Ober590uzo/X7YvN58fx9nC+Ld+f7PNPn2/1fruf7+16P8bWh/Htfnz+6nPD+P1+2G/4MzqtX7f3zp973HdY7/K+x/VL6cdr36+fx/vJfD/ND++N623P9eU+j9fpq33Kz/tf/rzDOv00P65/HH/d849/P6fnF/v0xf5/9vzkvfM5rNYtx/nZei/7nPvwL89v8t793w4AyCEAACCQAACAQAIAAAIJAAAIJAAAIJAAAIBAAgAAAgkAAAgkAAAgkAAAgEACAAACCQAACCQAACCQAACAQAIAAAIJAAAIJAAAIJAAAIBAAgAAAgkAAAgkAAAgkAAAgEACAAACCQAACCQAACCQAACAQAIAAAIJAAAIJAAAIJAAAIBAAgAAAgkAAAgkAAAgkAAAgEACAAACCQAACCQAACCQAACAQAIAAAIJAAAIJAAAIJAAAIBAAgAAAgkAAAgkAAAgkAAAgEACAAACCQAACCQAACCQAACAQAIAAAIJAAAIJAAAIJAAAIBAAgAAAgkAAAgkAAAgkAAAgEACAAACCQAACCQAACCQAACAQF+wzNwx42L4+AAAAABJRU5ErkJggg==\"></div><div style=\"vertical-align: middle; max-width: 514px; display: flex; justify-content: space-between;\"><div style=\"float: left;\"><div title=\"#6b1a69ff\" style=\"display: inline-block; width: 1em; height: 1em; margin: 0; vertical-align: middle; border: 1px solid #555; background-color: #6b1a69ff;\"></div> under</div><div style=\"margin: 0 auto; display: inline-block;\">bad <div title=\"#00000000\" style=\"display: inline-block; width: 1em; height: 1em; margin: 0; vertical-align: middle; border: 1px solid #555; background-color: #00000000;\"></div></div><div style=\"float: right;\">over <div title=\"#e68d40ff\" style=\"display: inline-block; width: 1em; height: 1em; margin: 0; vertical-align: middle; border: 1px solid #555; background-color: #e68d40ff;\"></div></div>"
      ],
      "text/plain": [
       "<matplotlib.colors.LinearSegmentedColormap at 0x7fee099cf370>"
      ]
     },
     "execution_count": 19,
     "metadata": {},
     "output_type": "execute_result"
    }
   ],
   "source": [
    "alkalinity_woce = mpl.colors.LinearSegmentedColormap('alkalinity_woce',segmentdata=cdict_alkalinity)\n",
    "alkalinity_woce"
   ]
  },
  {
   "cell_type": "markdown",
   "id": "1d590b83-a062-4768-a025-0dd84dcc4c39",
   "metadata": {},
   "source": [
    "## Total CO<sub>2</sub>"
   ]
  },
  {
   "cell_type": "code",
   "execution_count": 20,
   "id": "d3355384-cbf3-4f14-a55c-96b5cba25c41",
   "metadata": {},
   "outputs": [],
   "source": [
    "cdict_totalco2 = {\n",
    "    'red':((0.0,0.00390625,0.00390625),\n",
    "           (0.14285714285714285,0.0,0.0),\n",
    "           (0.2857142857142857,0.37109375,0.37109375),\n",
    "           (0.42857142857142855,0.6640625,0.6640625),\n",
    "           (0.5714285714285714,0.99609375,0.99609375),\n",
    "           (0.7142857142857143,0.99609375,0.99609375),\n",
    "           (0.8571428571428571,0.99609375,0.99609375),\n",
    "           (1.0,0.99609375,0.99609375)),\n",
    "    'green':((0.0,0.54296875,0.54296875),\n",
    "           (0.14285714285714285,0.6171875,0.6171875),\n",
    "           (0.2857142857142857,0.71875,0.71875),\n",
    "           (0.42857142857142855,0.84375,0.84375),\n",
    "           (0.5714285714285714,0.98046875,0.98046875),\n",
    "           (0.7142857142857143,0.96484375,0.96484375),\n",
    "           (0.8571428571428571,0.9453125,0.9453125),\n",
    "           (1.0,0.94140625,0.94140625)),\n",
    "    'blue':((0.0,0.75390625,0.75390625),\n",
    "           (0.14285714285714285,0.79296875,0.79296875),\n",
    "           (0.2857142857142857,0.84375,0.84375),\n",
    "           (0.42857142857142855,0.89453125,0.89453125),\n",
    "           (0.5714285714285714,0.7421875,0.7421875),\n",
    "           (0.7142857142857143,0.53125,0.53125),\n",
    "           (0.8571428571428571,0.32421875,0.32421875),\n",
    "           (1.0,0.046875,0.046875)),\n",
    "}"
   ]
  },
  {
   "cell_type": "code",
   "execution_count": 21,
   "id": "71273d8c-d579-4827-bc0c-4e3527a1bda3",
   "metadata": {},
   "outputs": [
    {
     "data": {
      "image/png": "[encoded data removed]",
      "text/html": [
       "<div style=\"vertical-align: middle;\"><strong>totalco2_woce</strong> </div><div class=\"cmap\"><img alt=\"totalco2_woce colormap\" title=\"totalco2_woce\" style=\"border: 1px solid #555;\" src=\"data:image/png;base64,iVBORw0KGgoAAAANSUhEUgAAAgAAAABACAYAAABsv8+/AAAAHHRFWHRUaXRsZQB0b3RhbGNvMl93b2NlIGNvbG9ybWFwE9oQagAAACJ0RVh0RGVzY3JpcHRpb24AdG90YWxjbzJfd29jZSBjb2xvcm1hcI6K/i8AAAAwdEVYdEF1dGhvcgBNYXRwbG90bGliIHYzLjguNCwgaHR0cHM6Ly9tYXRwbG90bGliLm9yZ2TOsrQAAAAydEVYdFNvZnR3YXJlAE1hdHBsb3RsaWIgdjMuOC40LCBodHRwczovL21hdHBsb3RsaWIub3JnSmgtkwAAAc9JREFUeJzt1lFO6zAAAEEHbs+pOBnhg6alfi9AaAVIO/NT7DixU6Rql/H0vI73lu1zGf+dH7deX3bW33p9Z787PXebfjz98XCafxzbeLu+XK8b1/PndXvz23jab2/+Ydrvcp6Pz3GZn8bze+y83945Luum+ek58/p/x0fv/2R+7HzP37z/8DnO96+n/der8f78y8H1N86PX9r3vP/bvmNsP0tHx9P8+t3nTOP11nPN57nXc46+xy+d/8v73vv/tz3nk+s//vk3zrH9rgIAIQIAAIIEAAAECQAACBIAABAkAAAgSAAAQJAAAIAgAQAAQQIAAIIEAAAECQAACBIAABAkAAAgSAAAQJAAAIAgAQAAQQIAAIIEAAAECQAACBIAABAkAAAgSAAAQJAAAIAgAQAAQQIAAIIEAAAECQAACBIAABAkAAAgSAAAQJAAAIAgAQAAQQIAAIIEAAAECQAACBIAABAkAAAgSAAAQJAAAIAgAQAAQQIAAIIEAAAECQAACBIAABAkAAAgSAAAQJAAAIAgAQAAQQIAAIIEAAAECQAACBIAABAkAAAgSAAAQJAAAIAgAQAAQQIAAIIEAAAECQAACBIAABAkAAAgSAAAQNArR5CeeNvASJoAAAAASUVORK5CYII=\"></div><div style=\"vertical-align: middle; max-width: 514px; display: flex; justify-content: space-between;\"><div style=\"float: left;\"><div title=\"#018ac0ff\" style=\"display: inline-block; width: 1em; height: 1em; margin: 0; vertical-align: middle; border: 1px solid #555; background-color: #018ac0ff;\"></div> under</div><div style=\"margin: 0 auto; display: inline-block;\">bad <div title=\"#00000000\" style=\"display: inline-block; width: 1em; height: 1em; margin: 0; vertical-align: middle; border: 1px solid #555; background-color: #00000000;\"></div></div><div style=\"float: right;\">over <div title=\"#fef00cff\" style=\"display: inline-block; width: 1em; height: 1em; margin: 0; vertical-align: middle; border: 1px solid #555; background-color: #fef00cff;\"></div></div>"
      ],
      "text/plain": [
       "<matplotlib.colors.LinearSegmentedColormap at 0x7fee099cf670>"
      ]
     },
     "execution_count": 21,
     "metadata": {},
     "output_type": "execute_result"
    }
   ],
   "source": [
    "totalco2_woce = mpl.colors.LinearSegmentedColormap('totalco2_woce',segmentdata=cdict_totalco2)\n",
    "totalco2_woce"
   ]
  },
  {
   "cell_type": "markdown",
   "id": "7c6a8b3b-a7d3-4325-b2c0-54b3fd1e14b9",
   "metadata": {},
   "source": [
    "## CFC-11"
   ]
  },
  {
   "cell_type": "code",
   "execution_count": 22,
   "id": "76e2b980-d713-4def-bf91-5f4e67dbd081",
   "metadata": {},
   "outputs": [],
   "source": [
    "cdict_cfc11 = {\n",
    "    'red':((0.0,0.00390625,0.00390625),\n",
    "           (0.14285714285714285,0.08984375,0.08984375),\n",
    "           (0.2857142857142857,0.40234375,0.40234375),\n",
    "           (0.42857142857142855,0.6796875,0.6796875),\n",
    "           (0.5714285714285714,0.93359375,0.93359375),\n",
    "           (0.7142857142857143,0.87890625,0.87890625),\n",
    "           (0.8571428571428571,0.83984375,0.83984375),\n",
    "           (1.0,0.79296875,0.79296875)),\n",
    "    'green':((0.0,0.5546875,0.5546875),\n",
    "           (0.14285714285714285,0.6328125,0.6328125),\n",
    "           (0.2857142857142857,0.7265625,0.7265625),\n",
    "           (0.42857142857142855,0.84765625,0.84765625),\n",
    "           (0.5714285714285714,0.7265625,0.7265625),\n",
    "           (0.7142857142857143,0.484375,0.484375),\n",
    "           (0.8571428571428571,0.28515625,0.28515625),\n",
    "           (1.0,0.0,0.0)),\n",
    "    'blue':((0.0,0.421875,0.421875),\n",
    "           (0.14285714285714285,0.51953125,0.51953125),\n",
    "           (0.2857142857142857,0.640625,0.640625),\n",
    "           (0.42857142857142855,0.78125,0.78125),\n",
    "           (0.5714285714285714,0.796875,0.796875),\n",
    "           (0.7142857142857143,0.6484375,0.6484375),\n",
    "           (0.8571428571428571,0.53515625,0.53515625),\n",
    "           (1.0,0.41796875,0.41796875)),\n",
    "}"
   ]
  },
  {
   "cell_type": "code",
   "execution_count": 23,
   "id": "c03b9236-c5ba-4f91-a7dd-0b6778bf20bd",
   "metadata": {},
   "outputs": [
    {
     "data": {
      "image/png": "[encoded data removed]",
      "text/html": [
       "<div style=\"vertical-align: middle;\"><strong>cfc11_woce</strong> </div><div class=\"cmap\"><img alt=\"cfc11_woce colormap\" title=\"cfc11_woce\" style=\"border: 1px solid #555;\" src=\"data:image/png;base64,iVBORw0KGgoAAAANSUhEUgAAAgAAAABACAYAAABsv8+/AAAAGXRFWHRUaXRsZQBjZmMxMV93b2NlIGNvbG9ybWFwaELWSgAAAB90RVh0RGVzY3JpcHRpb24AY2ZjMTFfd29jZSBjb2xvcm1hcBJqFwQAAAAwdEVYdEF1dGhvcgBNYXRwbG90bGliIHYzLjguNCwgaHR0cHM6Ly9tYXRwbG90bGliLm9yZ2TOsrQAAAAydEVYdFNvZnR3YXJlAE1hdHBsb3RsaWIgdjMuOC40LCBodHRwczovL21hdHBsb3RsaWIub3JnSmgtkwAAAgtJREFUeJzt1kFOwzAURdGfslzWwpYbBtSp8lOroUVM3jmTENexTSjSXerrc62qWmqpqqrl57L9cBjf7pd2X7v52/OT5+7DS3tuv859n9rft3WO53n83Gyfft4+frmtcxn32/j+/uMwXifnvTp/f76PJ+fb1uvn++P5pz9/87nln/Y5O398f6bPjetau+v4tvbx+/W2fh9vzx0+n63zZL9n+0zP8+bvtay3H8b1+nNdr0/Gx337fDZ+dr3x+fl9rr/b/+V9+vP1eJ2+b5s33X8ybz38fWo/3vcdl8l5tn3HftPztHNN30M7V3/Ph/dfk/H/nl+T8XfnT97D7T2N/2sAIIgAAIBAAgAAAgkAAAgkAAAgkAAAgEACAAACCQAACCQAACCQAACAQAIAAAIJAAAIJAAAIJAAAIBAAgAAAgkAAAgkAAAgkAAAgEACAAACCQAACCQAACCQAACAQAIAAAIJAAAIJAAAIJAAAIBAAgAAAgkAAAgkAAAgkAAAgEACAAACCQAACCQAACCQAACAQAIAAAIJAAAIJAAAIJAAAIBAAgAAAgkAAAgkAAAgkAAAgEACAAACCQAACCQAACCQAACAQAIAAAIJAAAIJAAAIJAAAIBAAgAAAgkAAAgkAAAgkAAAgEACAAACCQAACCQAACCQAACAQAIAAAIJAAAIJAAAIJAAAIBAAgAAAn0D3LQRwpK0InMAAAAASUVORK5CYII=\"></div><div style=\"vertical-align: middle; max-width: 514px; display: flex; justify-content: space-between;\"><div style=\"float: left;\"><div title=\"#018d6cff\" style=\"display: inline-block; width: 1em; height: 1em; margin: 0; vertical-align: middle; border: 1px solid #555; background-color: #018d6cff;\"></div> under</div><div style=\"margin: 0 auto; display: inline-block;\">bad <div title=\"#00000000\" style=\"display: inline-block; width: 1em; height: 1em; margin: 0; vertical-align: middle; border: 1px solid #555; background-color: #00000000;\"></div></div><div style=\"float: right;\">over <div title=\"#ca006bff\" style=\"display: inline-block; width: 1em; height: 1em; margin: 0; vertical-align: middle; border: 1px solid #555; background-color: #ca006bff;\"></div></div>"
      ],
      "text/plain": [
       "<matplotlib.colors.LinearSegmentedColormap at 0x7fee099cf580>"
      ]
     },
     "execution_count": 23,
     "metadata": {},
     "output_type": "execute_result"
    }
   ],
   "source": [
    "cfc11_woce = mpl.colors.LinearSegmentedColormap('cfc11_woce',segmentdata=cdict_cfc11)\n",
    "cfc11_woce"
   ]
  },
  {
   "cell_type": "markdown",
   "id": "5ccfad1c-b722-407e-bf39-23d6c128d170",
   "metadata": {},
   "source": [
    "## Tritium"
   ]
  },
  {
   "cell_type": "code",
   "execution_count": 24,
   "id": "4ac0f528-c3f5-4e7b-b671-3202f53c39fb",
   "metadata": {},
   "outputs": [],
   "source": [
    "cdict_tritium = {\n",
    "    'red':((0.0,0.99609375,0.99609375),\n",
    "           (0.14285714285714285,0.99609375,0.99609375),\n",
    "           (0.2857142857142857,0.99609375,0.99609375),\n",
    "           (0.42857142857142855,0.99609375,0.99609375),\n",
    "           (0.5714285714285714,0.671875,0.671875),\n",
    "           (0.7142857142857143,0.421875,0.421875),\n",
    "           (0.8571428571428571,0.22265625,0.22265625),\n",
    "           (1.0,0.00390625,0.00390625)),\n",
    "    'green':((0.0,0.94140625,0.94140625),\n",
    "           (0.14285714285714285,0.9453125,0.9453125),\n",
    "           (0.2857142857142857,0.96484375,0.96484375),\n",
    "           (0.42857142857142855,0.98046875,0.98046875),\n",
    "           (0.5714285714285714,0.8046875,0.8046875),\n",
    "           (0.7142857142857143,0.65625,0.65625),\n",
    "           (0.8571428571428571,0.55078125,0.55078125),\n",
    "           (1.0,0.45703125,0.45703125)),\n",
    "    'blue':((0.0,0.046875,0.046875),\n",
    "           (0.14285714285714285,0.32421875,0.32421875),\n",
    "           (0.2857142857142857,0.53125,0.53125),\n",
    "           (0.42857142857142855,0.7421875,0.7421875),\n",
    "           (0.5714285714285714,0.671875,0.671875),\n",
    "           (0.7142857142857143,0.45703125,0.45703125),\n",
    "           (0.8571428571428571,0.30078125,0.30078125),\n",
    "           (1.0,0.1953125,0.1953125)),\n",
    "}"
   ]
  },
  {
   "cell_type": "code",
   "execution_count": 25,
   "id": "6b5b9506-d1a1-4165-9614-54fc01ab31dc",
   "metadata": {},
   "outputs": [
    {
     "data": {
      "image/png": "[encoded data removed]",
      "text/html": [
       "<div style=\"vertical-align: middle;\"><strong>tritium_woce</strong> </div><div class=\"cmap\"><img alt=\"tritium_woce colormap\" title=\"tritium_woce\" style=\"border: 1px solid #555;\" src=\"data:image/png;base64,iVBORw0KGgoAAAANSUhEUgAAAgAAAABACAYAAABsv8+/AAAAG3RFWHRUaXRsZQB0cml0aXVtX3dvY2UgY29sb3JtYXBxHoa+AAAAIXRFWHREZXNjcmlwdGlvbgB0cml0aXVtX3dvY2UgY29sb3JtYXDzh2w7AAAAMHRFWHRBdXRob3IATWF0cGxvdGxpYiB2My44LjQsIGh0dHBzOi8vbWF0cGxvdGxpYi5vcmdkzrK0AAAAMnRFWHRTb2Z0d2FyZQBNYXRwbG90bGliIHYzLjguNCwgaHR0cHM6Ly9tYXRwbG90bGliLm9yZ0poLZMAAAHXSURBVHic7dbBTioxAEDR8rb+/3/6AxQXMphUx1GD8pJ7zgZLp9MyBHNP8/npMsYYY/wbj309PXj/5Rynr57zYHzam//puoPxT9e92/den/OPz//u+7vX8/jm97czntfRvP5xvrz+/Ob1Vzi38cH8eRvPdX5ZN5f7Hsyf13Ms+/zW/Nt5Xl8vt/m5XD//z/n5qP2vz2usz23v/WX9Mr+3fl52rrutnx9ft7P++Nw799s595f3HWPn/W28zN/uMw72Hx/ve7D+7Rzj889153Nv123/nQCAEAEAAEECAACCBAAABAkAAAgSAAAQJAAAIEgAAECQAACAIAEAAEECAACCBAAABAkAAAgSAAAQJAAAIEgAAECQAACAIAEAAEECAACCBAAABAkAAAgSAAAQJAAAIEgAAECQAACAIAEAAEECAACCBAAABAkAAAgSAAAQJAAAIEgAAECQAACAIAEAAEECAACCBAAABAkAAAgSAAAQJAAAIEgAAECQAACAIAEAAEECAACCBAAABAkAAAgSAAAQJAAAIEgAAECQAACAIAEAAEECAACCBAAABAkAAAgSAAAQJAAAIEgAAECQAACAIAEAAEECAACCBAAABAkAAAgSAAAQJAAAIOgFG0qFM5We8EwAAAAASUVORK5CYII=\"></div><div style=\"vertical-align: middle; max-width: 514px; display: flex; justify-content: space-between;\"><div style=\"float: left;\"><div title=\"#fef00cff\" style=\"display: inline-block; width: 1em; height: 1em; margin: 0; vertical-align: middle; border: 1px solid #555; background-color: #fef00cff;\"></div> under</div><div style=\"margin: 0 auto; display: inline-block;\">bad <div title=\"#00000000\" style=\"display: inline-block; width: 1em; height: 1em; margin: 0; vertical-align: middle; border: 1px solid #555; background-color: #00000000;\"></div></div><div style=\"float: right;\">over <div title=\"#017532ff\" style=\"display: inline-block; width: 1em; height: 1em; margin: 0; vertical-align: middle; border: 1px solid #555; background-color: #017532ff;\"></div></div>"
      ],
      "text/plain": [
       "<matplotlib.colors.LinearSegmentedColormap at 0x7fee099cffa0>"
      ]
     },
     "execution_count": 25,
     "metadata": {},
     "output_type": "execute_result"
    }
   ],
   "source": [
    "tritium_woce = mpl.colors.LinearSegmentedColormap('tritium_woce',segmentdata=cdict_tritium)\n",
    "tritium_woce"
   ]
  },
  {
   "cell_type": "markdown",
   "id": "8ae2714d-3022-42b3-ba2a-4213ca05e962",
   "metadata": {},
   "source": [
    "## δ<sup>3</sup>He"
   ]
  },
  {
   "cell_type": "code",
   "execution_count": 26,
   "id": "22d407a0-2304-4449-89b2-8df9c1affbe9",
   "metadata": {},
   "outputs": [],
   "source": [
    "cdict_d3he = {\n",
    "    'red':((0.0,0.00390625,0.00390625),\n",
    "           (0.14285714285714285,0.22265625,0.22265625),\n",
    "           (0.2857142857142857,0.421875,0.421875),\n",
    "           (0.42857142857142855,0.671875,0.671875),\n",
    "           (0.5714285714285714,0.6640625,0.6640625),\n",
    "           (0.7142857142857143,0.37109375,0.37109375),\n",
    "           (0.8571428571428571,0.0,0.0),\n",
    "           (1.0,0.00390625,0.00390625)),\n",
    "    'green':((0.0,0.45703125,0.45703125),\n",
    "           (0.14285714285714285,0.55078125,0.55078125),\n",
    "           (0.2857142857142857,0.65625,0.65625),\n",
    "           (0.42857142857142855,0.8046875,0.8046875),\n",
    "           (0.5714285714285714,0.84375,0.84375),\n",
    "           (0.7142857142857143,0.71875,0.71875),\n",
    "           (0.8571428571428571,0.6171875,0.6171875),\n",
    "           (1.0,0.54296875,0.54296875)),\n",
    "    'blue':((0.0,0.1953125,0.1953125),\n",
    "           (0.14285714285714285,0.30078125,0.30078125),\n",
    "           (0.2857142857142857,0.45703125,0.45703125),\n",
    "           (0.42857142857142855,0.671875,0.671875),\n",
    "           (0.5714285714285714,0.89453125,0.89453125),\n",
    "           (0.7142857142857143,0.84375,0.84375),\n",
    "           (0.8571428571428571,0.79296875,0.79296875),\n",
    "           (1.0,0.75390625,0.75390625)),\n",
    "}"
   ]
  },
  {
   "cell_type": "code",
   "execution_count": 27,
   "id": "ddeb3b2a-cd89-4cfd-964d-ac615d37aed0",
   "metadata": {},
   "outputs": [
    {
     "data": {
      "image/png": "[encoded data removed]",
      "text/html": [
       "<div style=\"vertical-align: middle;\"><strong>d3he_woce</strong> </div><div class=\"cmap\"><img alt=\"d3he_woce colormap\" title=\"d3he_woce\" style=\"border: 1px solid #555;\" src=\"data:image/png;base64,iVBORw0KGgoAAAANSUhEUgAAAgAAAABACAYAAABsv8+/AAAAGHRFWHRUaXRsZQBkM2hlX3dvY2UgY29sb3JtYXB0AqwHAAAAHnRFWHREZXNjcmlwdGlvbgBkM2hlX3dvY2UgY29sb3JtYXA2mUqMAAAAMHRFWHRBdXRob3IATWF0cGxvdGxpYiB2My44LjQsIGh0dHBzOi8vbWF0cGxvdGxpYi5vcmdkzrK0AAAAMnRFWHRTb2Z0d2FyZQBNYXRwbG90bGliIHYzLjguNCwgaHR0cHM6Ly9tYXRwbG90bGliLm9yZ0poLZMAAAIISURBVHic7dZBWoMwFIXRBztyb24fcVDw00dTqNbRPWeCISQEdfBP9f62VlXN01RVVXPdrtM+vl1qqn28z9fg+W1c1Z7v+/+cv/zeavMvPvdcdff+NPrOwfuP6+e7647nu/re+eJ77+8//r3Nl843PvfP7+z7/Xl+/uf9/3l+/7t9+0/bLm28za/TdP/5fTxYd7ZvHfa9eJ7TfX95nm28buOPWm/X26U+1j4+uX9Y//j5pd9/cv3hfj177sfrl8H6pT3fv2MZ3W/fufTfQ7Xn9veN7g/OcXq+tu/h79HeN/q+fo7tUrV+/dQn2vhk/vDci/a9PD9635Pz7f5cAEAcAQAAgQQAAAQSAAAQSAAAQCABAACBBAAABBIAABBIAABAIAEAAIEEAAAEEgAAEEgAAEAgAQAAgQQAAAQSAAAQSAAAQCABAACBBAAABBIAABBIAABAIAEAAIEEAAAEEgAAEEgAAEAgAQAAgQQAAAQSAAAQSAAAQCABAACBBAAABBIAABBIAABAIAEAAIEEAAAEEgAAEEgAAEAgAQAAgQQAAAQSAAAQSAAAQCABAACBBAAABBIAABBIAABAIAEAAIEEAAAEEgAAEEgAAEAgAQAAgQQAAAQSAAAQSAAAQCABAACBBAAABBIAABBIAABAIAEAAIEEAAAEEgAAEEgAAEAgAQAAgQQAAAT6BFtAvslQFiS2AAAAAElFTkSuQmCC\"></div><div style=\"vertical-align: middle; max-width: 514px; display: flex; justify-content: space-between;\"><div style=\"float: left;\"><div title=\"#017532ff\" style=\"display: inline-block; width: 1em; height: 1em; margin: 0; vertical-align: middle; border: 1px solid #555; background-color: #017532ff;\"></div> under</div><div style=\"margin: 0 auto; display: inline-block;\">bad <div title=\"#00000000\" style=\"display: inline-block; width: 1em; height: 1em; margin: 0; vertical-align: middle; border: 1px solid #555; background-color: #00000000;\"></div></div><div style=\"float: right;\">over <div title=\"#018ac0ff\" style=\"display: inline-block; width: 1em; height: 1em; margin: 0; vertical-align: middle; border: 1px solid #555; background-color: #018ac0ff;\"></div></div>"
      ],
      "text/plain": [
       "<matplotlib.colors.LinearSegmentedColormap at 0x7fee099cf640>"
      ]
     },
     "execution_count": 27,
     "metadata": {},
     "output_type": "execute_result"
    }
   ],
   "source": [
    "d3he_woce = mpl.colors.LinearSegmentedColormap('d3he_woce',segmentdata=cdict_d3he)\n",
    "d3he_woce"
   ]
  },
  {
   "cell_type": "markdown",
   "id": "951506d5-9456-4b36-929a-476de8fef0e7",
   "metadata": {},
   "source": [
    "## Δ<sup>14</sup>C"
   ]
  },
  {
   "cell_type": "code",
   "execution_count": 28,
   "id": "a31a221d-4f57-4dd8-8f7b-b3ed0e64d47a",
   "metadata": {},
   "outputs": [],
   "source": [
    "cdict_d14c = {\n",
    "    'red':((0.0,0.00390625,0.00390625),\n",
    "           (0.14285714285714285,0.22265625,0.22265625),\n",
    "           (0.2857142857142857,0.421875,0.421875),\n",
    "           (0.42857142857142855,0.671875,0.671875),\n",
    "           (0.5714285714285714,0.93359375,0.93359375),\n",
    "           (0.7142857142857143,0.87890625,0.87890625),\n",
    "           (0.8571428571428571,0.83984375,0.83984375),\n",
    "           (1.0,0.79296875,0.79296875)),\n",
    "    'green':((0.0,0.45703125,0.45703125),\n",
    "           (0.14285714285714285,0.55078125,0.55078125),\n",
    "           (0.2857142857142857,0.65625,0.65625),\n",
    "           (0.42857142857142855,0.8046875,0.8046875),\n",
    "           (0.5714285714285714,0.7265625,0.7265625),\n",
    "           (0.7142857142857143,0.484375,0.484375),\n",
    "           (0.8571428571428571,0.28515625,0.28515625),\n",
    "           (1.0,0.0,0.0)),\n",
    "    'blue':((0.0,0.1953125,0.1953125),\n",
    "           (0.14285714285714285,0.30078125,0.30078125),\n",
    "           (0.2857142857142857,0.45703125,0.45703125),\n",
    "           (0.42857142857142855,0.671875,0.671875),\n",
    "           (0.5714285714285714,0.796875,0.796875),\n",
    "           (0.7142857142857143,0.6484375,0.6484375),\n",
    "           (0.8571428571428571,0.53515625,0.53515625),\n",
    "           (1.0,0.41796875,0.41796875)),\n",
    "}"
   ]
  },
  {
   "cell_type": "code",
   "execution_count": 29,
   "id": "3809ac5f-c761-42f7-9222-ac959131befa",
   "metadata": {},
   "outputs": [
    {
     "data": {
      "image/png": "[encoded data removed]",
      "text/html": [
       "<div style=\"vertical-align: middle;\"><strong>d14c_woce</strong> </div><div class=\"cmap\"><img alt=\"d14c_woce colormap\" title=\"d14c_woce\" style=\"border: 1px solid #555;\" src=\"data:image/png;base64,iVBORw0KGgoAAAANSUhEUgAAAgAAAABACAYAAABsv8+/AAAAGHRFWHRUaXRsZQBkMTRjX3dvY2UgY29sb3JtYXDtv/OeAAAAHnRFWHREZXNjcmlwdGlvbgBkMTRjX3dvY2UgY29sb3JtYXCvJBUVAAAAMHRFWHRBdXRob3IATWF0cGxvdGxpYiB2My44LjQsIGh0dHBzOi8vbWF0cGxvdGxpYi5vcmdkzrK0AAAAMnRFWHRTb2Z0d2FyZQBNYXRwbG90bGliIHYzLjguNCwgaHR0cHM6Ly9tYXRwbG90bGliLm9yZ0poLZMAAAIESURBVHic7dZBUoQwFEXRH3bk3ly/OGjoqg58Rdt28s6ZIAkkEcuqO+r9ba2qWsaoqqqlbtex398uNWq/3+ereX67r5qen9d/nL+8b03zf3zupep0fHS/Z7P/8f3l9L3j+a7uu1zc93z9/rstl87Xn/vx95zXe3p+efH6r56v6bpOf4e1mb+P18P9aNbp7sf0/nfvHc9T155v1/36/GNbv9bth4/bdd2u7fh+P81341fX2+ev7/Pxs/1/vc/8fp2vM+/bfN/je+fP3fe9j9fj+LzvfmnOc9933689z3Su9jtM55q/8+H7VzP+389XM/7s88132L7T/v8IAAQRAAAQSAAAQCABAACBBAAABBIAABBIAABAIAEAAIEEAAAEEgAAEEgAAEAgAQAAgQQAAAQSAAAQSAAAQCABAACBBAAABBIAABBIAABAIAEAAIEEAAAEEgAAEEgAAEAgAQAAgQQAAAQSAAAQSAAAQCABAACBBAAABBIAABBIAABAIAEAAIEEAAAEEgAAEEgAAEAgAQAAgQQAAAQSAAAQSAAAQCABAACBBAAABBIAABBIAABAIAEAAIEEAAAEEgAAEEgAAEAgAQAAgQQAAAQSAAAQSAAAQCABAACBBAAABBIAABBIAABAIAEAAIEEAAAEEgAAEEgAAEAgAQAAgQQAAAQSAAAQSAAAQKBPRCgFwsu+W6MAAAAASUVORK5CYII=\"></div><div style=\"vertical-align: middle; max-width: 514px; display: flex; justify-content: space-between;\"><div style=\"float: left;\"><div title=\"#017532ff\" style=\"display: inline-block; width: 1em; height: 1em; margin: 0; vertical-align: middle; border: 1px solid #555; background-color: #017532ff;\"></div> under</div><div style=\"margin: 0 auto; display: inline-block;\">bad <div title=\"#00000000\" style=\"display: inline-block; width: 1em; height: 1em; margin: 0; vertical-align: middle; border: 1px solid #555; background-color: #00000000;\"></div></div><div style=\"float: right;\">over <div title=\"#ca006bff\" style=\"display: inline-block; width: 1em; height: 1em; margin: 0; vertical-align: middle; border: 1px solid #555; background-color: #ca006bff;\"></div></div>"
      ],
      "text/plain": [
       "<matplotlib.colors.LinearSegmentedColormap at 0x7fee099cf760>"
      ]
     },
     "execution_count": 29,
     "metadata": {},
     "output_type": "execute_result"
    }
   ],
   "source": [
    "d14c_woce = mpl.colors.LinearSegmentedColormap('d14c_woce',segmentdata=cdict_d14c)\n",
    "d14c_woce"
   ]
  },
  {
   "cell_type": "markdown",
   "id": "7841a365-1a43-42b9-b63b-9b270816346e",
   "metadata": {},
   "source": [
    "## Depth"
   ]
  },
  {
   "cell_type": "code",
   "execution_count": 30,
   "id": "be1070cf-1f66-4b3e-a5af-95509b84a945",
   "metadata": {},
   "outputs": [],
   "source": [
    "cdict_depth = {\n",
    "    'red':((0.0,0.79296875,0.79296875),\n",
    "           (0.14285714285714285,0.859375,0.859375),\n",
    "           (0.2857142857142857,0.99609375,0.99609375),\n",
    "           (0.42857142857142855,0.4140625,0.4140625),\n",
    "           (0.5714285714285714,0.0,0.0),\n",
    "           (0.7142857142857143,0.00390625,0.00390625),\n",
    "           (0.8571428571428571,0.12890625,0.12890625),\n",
    "           (1.0,0.41015625,0.41015625)),\n",
    "    'green':((0.0,0.09765625,0.09765625),\n",
    "           (0.14285714285714285,0.47265625,0.47265625),\n",
    "           (0.2857142857142857,0.94140625,0.94140625),\n",
    "           (0.42857142857142855,0.7109375,0.7109375),\n",
    "           (0.5714285714285714,0.6171875,0.6171875),\n",
    "           (0.7142857142857143,0.4375,0.4375),\n",
    "           (0.8571428571428571,0.14453125,0.14453125),\n",
    "           (1.0,0.12890625,0.12890625,)),\n",
    "    'blue':((0.0,0.15234375,0.15234375),\n",
    "           (0.14285714285714285,0.1796875,0.1796875),\n",
    "           (0.2857142857142857,0.046875,0.046875),\n",
    "           (0.42857142857142855,0.4609375,0.4609375),\n",
    "           (0.5714285714285714,0.83984375,0.83984375),\n",
    "           (0.7142857142857143,0.68359375,0.68359375),\n",
    "           (0.8571428571428571,0.421875,0.421875),\n",
    "           (1.0,0.42578125,0.42578125)),\n",
    "}"
   ]
  },
  {
   "cell_type": "code",
   "execution_count": 32,
   "id": "bf431d24-8124-4083-ad74-9c31d9425778",
   "metadata": {},
   "outputs": [
    {
     "data": {
      "image/png": "[encoded data removed]",
      "text/html": [
       "<div style=\"vertical-align: middle;\"><strong>depth_woce</strong> </div><div class=\"cmap\"><img alt=\"depth_woce colormap\" title=\"depth_woce\" style=\"border: 1px solid #555;\" src=\"data:image/png;base64,iVBORw0KGgoAAAANSUhEUgAAAgAAAABACAYAAABsv8+/AAAAGXRFWHRUaXRsZQBkZXB0aF93b2NlIGNvbG9ybWFwIP2aKwAAAB90RVh0RGVzY3JpcHRpb24AZGVwdGhfd29jZSBjb2xvcm1hcFrVW2UAAAAwdEVYdEF1dGhvcgBNYXRwbG90bGliIHYzLjguNCwgaHR0cHM6Ly9tYXRwbG90bGliLm9yZ2TOsrQAAAAydEVYdFNvZnR3YXJlAE1hdHBsb3RsaWIgdjMuOC40LCBodHRwczovL21hdHBsb3RsaWIub3JnSmgtkwAAAgNJREFUeJzt1lFSqzAAhtGEughX4P7X4Za04EPBToMpZujbf84Lk5CE6HjvfPXz/WMppZRyqaWUUuql3Ezlcbybr0/X1WkbH5zbnrfb3577fN393Oa7vfUH92zPrZfl8fm2jM3v3pehfeXV33vRz7H9vr6X2we+5+a5TA/jr+66g3HnvP669XuH35me7h//zvTn+us6vpZtPP05P3fm9+ubcWd+7q0/uMf5+/3v3tv95rL++57Xv6ulefbmu+/nk/vb9/PJ/b3389D+ut7j/uzNb+eOrd/vb9Zfj/Ytzf6x9efvf3u//Tc+/FwG1/8+66lz6svv879zAIAgAgAAAgkAAAgkAAAgkAAAgEACAAACCQAACCQAACCQAACAQAIAAAIJAAAIJAAAIJAAAIBAAgAAAgkAAAgkAAAgkAAAgEACAAACCQAACCQAACCQAACAQAIAAAIJAAAIJAAAIJAAAIBAAgAAAgkAAAgkAAAgkAAAgEACAAACCQAACCQAACCQAACAQAIAAAIJAAAIJAAAIJAAAIBAAgAAAgkAAAgkAAAgkAAAgEACAAACCQAACCQAACCQAACAQAIAAAIJAAAIJAAAIJAAAIBAAgAAAgkAAAgkAAAgkAAAgEACAAACCQAACCQAACCQAACAQAIAAAIJAAAIJAAAIJAAAIBAAgAAAgkAAAj0A4CvPoJGUjoCAAAAAElFTkSuQmCC\"></div><div style=\"vertical-align: middle; max-width: 514px; display: flex; justify-content: space-between;\"><div style=\"float: left;\"><div title=\"#ca1927ff\" style=\"display: inline-block; width: 1em; height: 1em; margin: 0; vertical-align: middle; border: 1px solid #555; background-color: #ca1927ff;\"></div> under</div><div style=\"margin: 0 auto; display: inline-block;\">bad <div title=\"#00000000\" style=\"display: inline-block; width: 1em; height: 1em; margin: 0; vertical-align: middle; border: 1px solid #555; background-color: #00000000;\"></div></div><div style=\"float: right;\">over <div title=\"#69216dff\" style=\"display: inline-block; width: 1em; height: 1em; margin: 0; vertical-align: middle; border: 1px solid #555; background-color: #69216dff;\"></div></div>"
      ],
      "text/plain": [
       "<matplotlib.colors.LinearSegmentedColormap at 0x7fee099cf700>"
      ]
     },
     "execution_count": 32,
     "metadata": {},
     "output_type": "execute_result"
    }
   ],
   "source": [
    "depth_woce = mpl.colors.LinearSegmentedColormap('depth_woce',segmentdata=cdict_depth)\n",
    "depth_woce"
   ]
  },
  {
   "cell_type": "markdown",
   "id": "3fc094cd-b643-4e1d-9b65-3e2b732b3894",
   "metadata": {},
   "source": [
    "## Important Notes\n",
    "- These colormaps cannot be reversed\n",
    "- The 'under' label is given to the lower value while the 'over' label is given to the higher value"
   ]
  }
 ],
 "metadata": {
  "kernelspec": {
   "display_name": "Python 3 (ipykernel)",
   "language": "python",
   "name": "python3"
  },
  "language_info": {
   "codemirror_mode": {
    "name": "ipython",
    "version": 3
   },
   "file_extension": ".py",
   "mimetype": "text/x-python",
   "name": "python",
   "nbconvert_exporter": "python",
   "pygments_lexer": "ipython3",
   "version": "3.9.18"
  }
 },
 "nbformat": 4,
 "nbformat_minor": 5
}
