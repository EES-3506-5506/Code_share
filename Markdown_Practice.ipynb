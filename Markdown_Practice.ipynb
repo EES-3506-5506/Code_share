{
 "cells": [
  {
   "cell_type": "markdown",
   "id": "e4ee0be1-e6bc-4e39-8f63-40e3325e9ec2",
   "metadata": {},
   "source": [
    "# Markdown Practice"
   ]
  },
  {
   "cell_type": "markdown",
   "id": "4ff58194-fb90-45da-8f56-81a92c4b08a0",
   "metadata": {},
   "source": [
    "## About Sizing"
   ]
  },
  {
   "cell_type": "markdown",
   "id": "aa839126-6431-4680-b7cb-0269274f6af6",
   "metadata": {},
   "source": [
    "Sizes are denoted using #. Note that a space is located between the # and the text.  \n",
    "Largest text is preceded by one #. Text sizes decrease with an increase in # quantity."
   ]
  },
  {
   "cell_type": "markdown",
   "id": "a71d83e2-aeb4-4b44-8a32-59316e5a722a",
   "metadata": {},
   "source": [
    "## Font Formatting"
   ]
  },
  {
   "cell_type": "markdown",
   "id": "4f228eb0-f046-4189-8c8e-c4e082c76d1c",
   "metadata": {},
   "source": [
    "| Format | Code |\n",
    "| ----- | ----- |\n",
    "| <u> Underline </u> | `<u>` txt `</u>` |\n",
    "| * Italicize * | `*` txt `*` |\n",
    "| ** Bold ** | `**` txt `**` |\n",
    "| ~~ Strikethrough ~~ | `~~` txt `~~` |\n",
    "| <sub> Subscript </sub> | `<sub>` txt `</sub>` |\n",
    "| <sup> Superscript </sup> | `<sup>` Superscript `</sup>` |"
   ]
  },
  {
   "cell_type": "markdown",
   "id": "4d60a0bb-9013-4afc-8ec7-d8ab45856c2c",
   "metadata": {},
   "source": [
    "## Line Orientation"
   ]
  },
  {
   "cell_type": "markdown",
   "id": "5cb515fc-7e9a-4c61-94cf-ee9bb503ff4c",
   "metadata": {},
   "source": [
    "Hitting return on its own will not cause a line break when the cell is run. To write in an actual line break, type several spaces after the end of a line prior to hitting return. "
   ]
  },
  {
   "cell_type": "markdown",
   "id": "a4004a8f-0877-4854-afbd-f4e73e0a7f29",
   "metadata": {},
   "source": [
    "> Blockquote refers to this indented block of text.\n",
    "> To make this, type > prior to writing the first line. Hitting return will automatically create a new line.\n",
    "> Note that many Markdown elements can be included in blockquotes."
   ]
  },
  {
   "cell_type": "markdown",
   "id": "2c867da9-63fb-41df-9db0-f10077992399",
   "metadata": {},
   "source": [
    "Tables can be created using the following format:    \n",
    "`| Heading 1 | Heading 2 |`   \n",
    "`| --- | --- |`  \n",
    "`| Column 1, Row 1 | Column 2, Row 1 |`  \n",
    "`| Column 1, Row 2 | Column 2, Row 2 |`  \n",
    "and can continue downwards and outwards as necessary. Though the lines may not appear to align when writing the text, Markdown will recognize this as a table so long as the `---` are included."
   ]
  },
  {
   "cell_type": "markdown",
   "id": "827c43fb-6cf2-44a3-8e8c-3cdb4ff1f2dc",
   "metadata": {},
   "source": [
    "1. lists can be created by writing\n",
    "2. a number followed by a period.\n",
    "\n",
    "Or, \n",
    "\n",
    "- lists can be created by writing\n",
    "- a dash prior to each line."
   ]
  },
  {
   "cell_type": "markdown",
   "id": "76254b20-2224-4609-9cea-b92e9ac7c429",
   "metadata": {},
   "source": [
    "## Colors"
   ]
  },
  {
   "cell_type": "markdown",
   "id": "74ed6237-9a75-4d41-839f-3422565b07fe",
   "metadata": {},
   "source": [
    "Text can be written in different colors! This is done using the following format:"
   ]
  },
  {
   "cell_type": "markdown",
   "id": "c16d7b40-e8c0-4b7a-8a6d-62167379f42b",
   "metadata": {},
   "source": [
    "`<span style = \"color: red\">` <span style = \"color: red\"> txt </span>`</span>`"
   ]
  },
  {
   "cell_type": "markdown",
   "id": "0b2e9edb-f531-420c-a4a6-012151b6fe87",
   "metadata": {},
   "source": [
    "<span style = \"color: seagreen\"> While the above example uses red, many colors can be chosen from. This text is written in seagreen! The options can be seen in this chart: </span>"
   ]
  },
  {
   "cell_type": "markdown",
   "id": "7eb0f11e-ce37-4b5c-9861-937b27220ded",
   "metadata": {},
   "source": [
    "![Chart showing Markdown color options.](Markdown_Colors.png)"
   ]
  },
  {
   "cell_type": "markdown",
   "id": "4b313cfe-0b44-4d5e-bd19-9f0fd886665e",
   "metadata": {},
   "source": [
    "## Other Important Features"
   ]
  },
  {
   "cell_type": "markdown",
   "id": "4376a55b-c122-4b1b-bcf0-88db67fd7ab9",
   "metadata": {},
   "source": [
    "A Markdown cell can contain code -- this is done by surrounding the code in ` (~ key)."
   ]
  },
  {
   "cell_type": "markdown",
   "id": "c7a64218-9f7e-46ce-9fea-87219b646497",
   "metadata": {},
   "source": [
    "An image can be inputted into a notebook, so long as it is already uploaded to Jupyter. To do this, type  \n",
    "`![alt txt](image_name.jpg)`"
   ]
  },
  {
   "cell_type": "markdown",
   "id": "2ff93625-9751-4bc4-ade7-e1bbc7abae59",
   "metadata": {},
   "source": [
    "To put a link in the text, type   \n",
    "`[title](link)`"
   ]
  },
  {
   "cell_type": "markdown",
   "id": "775a1172-3f35-41fb-99c5-febb8bfea97c",
   "metadata": {},
   "source": [
    "A horizontal line can be written in as --- ."
   ]
  },
  {
   "cell_type": "markdown",
   "id": "e42b1068-ec81-4e80-a215-2dcf3794fda0",
   "metadata": {},
   "source": [
    "---"
   ]
  },
  {
   "cell_type": "markdown",
   "id": "b4995402-d981-418c-a13a-53521fabfd56",
   "metadata": {},
   "source": [
    "This overview was created while referencing [Markdown Guide](https://www.markdownguide.org/basic-syntax/)."
   ]
  }
 ],
 "metadata": {
  "kernelspec": {
   "display_name": "Python 3 (ipykernel)",
   "language": "python",
   "name": "python3"
  },
  "language_info": {
   "codemirror_mode": {
    "name": "ipython",
    "version": 3
   },
   "file_extension": ".py",
   "mimetype": "text/x-python",
   "name": "python",
   "nbconvert_exporter": "python",
   "pygments_lexer": "ipython3",
   "version": "3.9.18"
  }
 },
 "nbformat": 4,
 "nbformat_minor": 5
}
