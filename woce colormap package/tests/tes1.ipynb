{
 "cells": [
  {
   "cell_type": "code",
   "execution_count": 5,
   "id": "9d36f703-a7f8-4ba7-8ed0-c05290e9340e",
   "metadata": {},
   "outputs": [
    {
     "ename": "ModuleNotFoundError",
     "evalue": "No module named 'wocecolormap_emma138'",
     "output_type": "error",
     "traceback": [
      "\u001b[0;31m---------------------------------------------------------------------------\u001b[0m",
      "\u001b[0;31mModuleNotFoundError\u001b[0m                       Traceback (most recent call last)",
      "Cell \u001b[0;32mIn[5], line 1\u001b[0m\n\u001b[0;32m----> 1\u001b[0m \u001b[38;5;28;01mfrom\u001b[39;00m \u001b[38;5;21;01mwocecolormap_emma138\u001b[39;00m \u001b[38;5;28;01mimport\u001b[39;00m wocecolor\n",
      "\u001b[0;31mModuleNotFoundError\u001b[0m: No module named 'wocecolormap_emma138'"
     ]
    }
   ],
   "source": [
    "from wocecolormap_emma138 import wocecolor"
   ]
  },
  {
   "cell_type": "code",
   "execution_count": null,
   "id": "a065cb9c-77a9-4947-9aa0-3efc7562fd07",
   "metadata": {},
   "outputs": [],
   "source": []
  }
 ],
 "metadata": {
  "kernelspec": {
   "display_name": "Python 3 (ipykernel)",
   "language": "python",
   "name": "python3"
  },
  "language_info": {
   "codemirror_mode": {
    "name": "ipython",
    "version": 3
   },
   "file_extension": ".py",
   "mimetype": "text/x-python",
   "name": "python",
   "nbconvert_exporter": "python",
   "pygments_lexer": "ipython3",
   "version": "3.9.18"
  }
 },
 "nbformat": 4,
 "nbformat_minor": 5
}
